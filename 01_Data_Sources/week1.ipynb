{
  "nbformat": 4,
  "nbformat_minor": 0,
  "metadata": {
    "colab": {
      "name": "week1.ipynb",
      "provenance": [],
      "include_colab_link": true
    },
    "kernelspec": {
      "name": "python3",
      "display_name": "Python 3"
    },
    "language_info": {
      "name": "python"
    }
  },
  "cells": [
    {
      "cell_type": "markdown",
      "metadata": {
        "id": "view-in-github",
        "colab_type": "text"
      },
      "source": [
        "<a href=\"https://colab.research.google.com/github/ekaratnida/DADS5001-Data-Analytics-and-Data-Science-Tools-and-Programming/blob/main/01_Data_Sources/week1.ipynb\" target=\"_parent\"><img src=\"https://colab.research.google.com/assets/colab-badge.svg\" alt=\"Open In Colab\"/></a>"
      ]
    },
    {
      "cell_type": "markdown",
      "source": [
        "# 1. Youtube"
      ],
      "metadata": {
        "id": "sD8ky2n3mkQQ"
      }
    },
    {
      "cell_type": "code",
      "source": [
        "!pip install pytchat #https://github.com/taizan-hokuto/pytchat/wiki"
      ],
      "metadata": {
        "id": "Pgo6b68WmFIJ"
      },
      "execution_count": null,
      "outputs": []
    },
    {
      "cell_type": "code",
      "execution_count": null,
      "metadata": {
        "id": "pgCSzTNYkmqi"
      },
      "outputs": [],
      "source": [
        "import pytchat\n",
        "chat = pytchat.create(video_id=\"VDQFqn0evfM\")\n",
        "\n",
        "while chat.is_alive():\n",
        "  for c in chat.get().sync_items():\n",
        "    print(dir(c))\n",
        "    print(f\"{c.datetime} [{c.author.name}]- {c.message}\")"
      ]
    },
    {
      "cell_type": "code",
      "source": [
        "import pytchat\n",
        "import pandas as pd\n",
        "chat = pytchat.create(video_id=\"VDQFqn0evfM\")\n",
        "\n",
        "dList = []\n",
        "aList = []\n",
        "mList = []\n",
        "\n",
        "i = 0\n",
        "while chat.is_alive():\n",
        "  for c in chat.get().sync_items():\n",
        "    print(f\"{c.datetime} [{c.author.name}]- {c.message}\")\n",
        "    dList.append(c.datetime)\n",
        "    aList.append(c.author.name)\n",
        "    mList.append(c.message)\n",
        "    i = i+1\n",
        "    if i == 10:\n",
        "      chat.terminate()\n",
        "      break\n",
        "\n",
        "# dictionary of lists\n",
        "dict = {'dateTime': dList, 'authorName': aList, 'Message': mList}\n",
        "\n",
        "df = pd.DataFrame(dict)\n",
        "df.head()\n",
        "\n",
        "from google.colab import files\n",
        "df.to_csv(\"data.csv\", encoding=\"utf_8_sig\", index=False) #cp874, #TIS-620\n",
        "files.download(\"data.csv\")"
      ],
      "metadata": {
        "colab": {
          "base_uri": "https://localhost:8080/",
          "height": 190
        },
        "id": "vsr1OM129uRq",
        "outputId": "43df988b-0935-49fa-8b02-3978e1e29731"
      },
      "execution_count": null,
      "outputs": [
        {
          "output_type": "stream",
          "name": "stdout",
          "text": [
            "2022-10-11 13:11:02 [elghazi]- มาาาา\n",
            "2022-10-11 13:11:07 [ชาวประมงระยา]- ละดูหน้า\n",
            "2022-10-11 13:11:21 [ohpreams ‘94]- มาาาาาาาาาา\n",
            "2022-10-11 13:11:24 [sunchai sunchaisuwon]- มีคนติดโอเวอร์วอทททททท2\n",
            "2022-10-11 13:11:30 [Wanitch Teeraphothipan]- มาาาาา\n",
            "2022-10-11 13:11:31 [Tachporn Sirithamrak]- มาาาา\n",
            "2022-10-11 13:11:32 [hiimpiyachat]- มาเฉยยย\n",
            "2022-10-11 13:11:35 [Aom ที่ไม่มีไรดีเลย]- มาค้าบบบบบลุยยยยค้าบบบบบบ\n",
            "2022-10-11 13:11:45 [XEAR]- รอออ\n",
            "2022-10-11 13:11:47 [Gg]- มาาาาาาาาาาาาาาาาาาาาาาาาา\n"
          ]
        },
        {
          "output_type": "display_data",
          "data": {
            "text/plain": [
              "<IPython.core.display.Javascript object>"
            ],
            "application/javascript": [
              "\n",
              "    async function download(id, filename, size) {\n",
              "      if (!google.colab.kernel.accessAllowed) {\n",
              "        return;\n",
              "      }\n",
              "      const div = document.createElement('div');\n",
              "      const label = document.createElement('label');\n",
              "      label.textContent = `Downloading \"${filename}\": `;\n",
              "      div.appendChild(label);\n",
              "      const progress = document.createElement('progress');\n",
              "      progress.max = size;\n",
              "      div.appendChild(progress);\n",
              "      document.body.appendChild(div);\n",
              "\n",
              "      const buffers = [];\n",
              "      let downloaded = 0;\n",
              "\n",
              "      const channel = await google.colab.kernel.comms.open(id);\n",
              "      // Send a message to notify the kernel that we're ready.\n",
              "      channel.send({})\n",
              "\n",
              "      for await (const message of channel.messages) {\n",
              "        // Send a message to notify the kernel that we're ready.\n",
              "        channel.send({})\n",
              "        if (message.buffers) {\n",
              "          for (const buffer of message.buffers) {\n",
              "            buffers.push(buffer);\n",
              "            downloaded += buffer.byteLength;\n",
              "            progress.value = downloaded;\n",
              "          }\n",
              "        }\n",
              "      }\n",
              "      const blob = new Blob(buffers, {type: 'application/binary'});\n",
              "      const a = document.createElement('a');\n",
              "      a.href = window.URL.createObjectURL(blob);\n",
              "      a.download = filename;\n",
              "      div.appendChild(a);\n",
              "      a.click();\n",
              "      div.remove();\n",
              "    }\n",
              "  "
            ]
          },
          "metadata": {}
        },
        {
          "output_type": "display_data",
          "data": {
            "text/plain": [
              "<IPython.core.display.Javascript object>"
            ],
            "application/javascript": [
              "download(\"download_ec4c846e-7f7c-4b17-8750-91c18cd92120\", \"data.csv\", 795)"
            ]
          },
          "metadata": {}
        }
      ]
    },
    {
      "cell_type": "markdown",
      "source": [
        "# 2. Twitter\n",
        "#### Reference https://developer.twitter.com/en/docs/twitter-api/v1/tweets/timelines/api-reference/get-statuses-user_timeline"
      ],
      "metadata": {
        "id": "-Is6zOw5n0n_"
      }
    },
    {
      "cell_type": "code",
      "source": [
        "!pip install tweepy #https://www.tweepy.org/"
      ],
      "metadata": {
        "id": "n0a9S2EXos5J",
        "outputId": "239605d8-586b-4c6e-a055-a6abd56da1a4",
        "colab": {
          "base_uri": "https://localhost:8080/"
        }
      },
      "execution_count": null,
      "outputs": [
        {
          "output_type": "stream",
          "name": "stdout",
          "text": [
            "Looking in indexes: https://pypi.org/simple, https://us-python.pkg.dev/colab-wheels/public/simple/\n",
            "Requirement already satisfied: tweepy in /usr/local/lib/python3.7/dist-packages (3.10.0)\n",
            "Requirement already satisfied: requests-oauthlib>=0.7.0 in /usr/local/lib/python3.7/dist-packages (from tweepy) (1.3.1)\n",
            "Requirement already satisfied: six>=1.10.0 in /usr/local/lib/python3.7/dist-packages (from tweepy) (1.15.0)\n",
            "Requirement already satisfied: requests[socks]>=2.11.1 in /usr/local/lib/python3.7/dist-packages (from tweepy) (2.23.0)\n",
            "Requirement already satisfied: oauthlib>=3.0.0 in /usr/local/lib/python3.7/dist-packages (from requests-oauthlib>=0.7.0->tweepy) (3.2.1)\n",
            "Requirement already satisfied: certifi>=2017.4.17 in /usr/local/lib/python3.7/dist-packages (from requests[socks]>=2.11.1->tweepy) (2022.9.24)\n",
            "Requirement already satisfied: urllib3!=1.25.0,!=1.25.1,<1.26,>=1.21.1 in /usr/local/lib/python3.7/dist-packages (from requests[socks]>=2.11.1->tweepy) (1.24.3)\n",
            "Requirement already satisfied: idna<3,>=2.5 in /usr/local/lib/python3.7/dist-packages (from requests[socks]>=2.11.1->tweepy) (2.10)\n",
            "Requirement already satisfied: chardet<4,>=3.0.2 in /usr/local/lib/python3.7/dist-packages (from requests[socks]>=2.11.1->tweepy) (3.0.4)\n",
            "Requirement already satisfied: PySocks!=1.5.7,>=1.5.6 in /usr/local/lib/python3.7/dist-packages (from requests[socks]>=2.11.1->tweepy) (1.7.1)\n"
          ]
        }
      ]
    },
    {
      "cell_type": "markdown",
      "source": [
        "### Setup key and secret\n"
      ],
      "metadata": {
        "id": "yHyQTyfiFjML"
      }
    },
    {
      "cell_type": "code",
      "source": [
        "from getpass import getpass\n",
        "consumer_key = getpass('Enter the consumer_key: ')\n",
        "consumer_secret = getpass('Enter the consumer_secret: ')\n",
        "access_token = getpass('Enter the access_token: ')\n",
        "access_token_secret = getpass('Enter the access_token_secret: ')"
      ],
      "metadata": {
        "id": "u9zghkeYEZ2D"
      },
      "execution_count": null,
      "outputs": []
    },
    {
      "cell_type": "markdown",
      "source": [
        "### Streaming"
      ],
      "metadata": {
        "id": "vFj8KMfRFT4C"
      }
    },
    {
      "cell_type": "code",
      "source": [
        "import tweepy\n",
        "\n",
        "auth = tweepy.OAuthHandler(consumer_key, consumer_secret)\n",
        "auth.set_access_token(access_token, access_token_secret)\n",
        "\n",
        "api = tweepy.API(auth)"
      ],
      "metadata": {
        "id": "1YA_65_hFDbz"
      },
      "execution_count": null,
      "outputs": []
    },
    {
      "cell_type": "markdown",
      "source": [
        "### Example 1: User home timeline"
      ],
      "metadata": {
        "id": "cRvXO7DfFXtK"
      }
    },
    {
      "cell_type": "code",
      "source": [
        "public_tweets = api.home_timeline()\n",
        "for tweet in public_tweets:\n",
        "    print(tweet.text)\n",
        "    print(\"----------------------------------\")"
      ],
      "metadata": {
        "id": "a_Rq4gkpqCu4"
      },
      "execution_count": null,
      "outputs": []
    },
    {
      "cell_type": "markdown",
      "source": [
        "### Example 2: monitor user ID"
      ],
      "metadata": {
        "id": "qEpJQsk6FoTE"
      }
    },
    {
      "cell_type": "code",
      "source": [
        "import pandas as pd\n",
        "dList = []\n",
        "aList = []\n",
        "mList = []\n",
        "userID = \"elonmusk\"\n",
        "user = api.get_user(userID)\n",
        "\n",
        "tweets = api.user_timeline(screen_name=userID,\n",
        "                           # 10 is the maximum allowed count\n",
        "                           count=10,\n",
        "                           include_rts = False,\n",
        "                           # Necessary to keep full_text\n",
        "                           # otherwise only the first 140 words are extracted\n",
        "                           tweet_mode = 'extended'\n",
        "                           )\n",
        "\n",
        "for info in tweets[:5]:\n",
        "    #print(info)\n",
        "    #print(\"ID: {}\".format(info.id))\n",
        "    print(info.created_at)\n",
        "    print(info.full_text)\n",
        "    print(\"\\n\")\n",
        "    dList.append(info.id)\n",
        "    aList.append(info.created_at)\n",
        "    mList.append(info.full_text.encode().decode('unicode_escape'))\n",
        "\n",
        "dict = {'id': dList, 'time': aList, 'text': mList}\n",
        "\n",
        "df = pd.DataFrame(dict)\n",
        "df.head()\n",
        "\n",
        "from google.colab import files\n",
        "df.to_csv(\"data.csv\", encoding=\"ISO-8859-1\", index=False)\n",
        "files.download(\"data.csv\")\n"
      ],
      "metadata": {
        "id": "AxBMi_5GsGGI"
      },
      "execution_count": null,
      "outputs": []
    },
    {
      "cell_type": "markdown",
      "source": [
        "### Web scraping"
      ],
      "metadata": {
        "id": "TKHf6gy-PYnb"
      }
    },
    {
      "cell_type": "code",
      "source": [
        "import requests #connect url\n",
        "from bs4 import BeautifulSoup #https://www.crummy.com/software/BeautifulSoup/bs4/doc/\n",
        "\n",
        "url = requests.get('https://www.blognone.com/node/109731')\n",
        "#print(\"url = \",url)\n",
        "\n",
        "soup = BeautifulSoup(url.content, 'html.parser')\n",
        "#print(\"soup = \",soup)\n",
        "\n",
        "#data = soup.find(itemprop='name')\n",
        "#print(data)\n",
        "\n",
        "####\n",
        "data = ''\n",
        "idx = 1\n",
        "for i in soup.find_all(\"div\", {\"class\": \"field-item even\"}):\n",
        "  output = i.find(\"p\")\n",
        "  #print(type(output))\n",
        "  if output != None:\n",
        "    print(idx, \" = \", output.text)\n",
        "    idx = idx + 1"
      ],
      "metadata": {
        "id": "TfnV1SYjPbEL"
      },
      "execution_count": null,
      "outputs": []
    },
    {
      "cell_type": "markdown",
      "source": [
        "# Experiment section"
      ],
      "metadata": {
        "id": "ybTvYBePhH-K"
      }
    },
    {
      "cell_type": "code",
      "source": [
        "!pip3 install git+https://github.com/JustAnotherArchivist/snscrape.git"
      ],
      "metadata": {
        "colab": {
          "base_uri": "https://localhost:8080/"
        },
        "id": "104D5aXgU_N2",
        "outputId": "6efb8ed3-f5fb-4683-81c9-6b3109a69488"
      },
      "execution_count": 1,
      "outputs": [
        {
          "output_type": "stream",
          "name": "stdout",
          "text": [
            "Collecting git+https://github.com/JustAnotherArchivist/snscrape.git\n",
            "  Cloning https://github.com/JustAnotherArchivist/snscrape.git to /tmp/pip-req-build-xfszf7qi\n",
            "  Running command git clone --filter=blob:none --quiet https://github.com/JustAnotherArchivist/snscrape.git /tmp/pip-req-build-xfszf7qi\n",
            "  Resolved https://github.com/JustAnotherArchivist/snscrape.git to commit 614d4c2029a62d348ca56598f87c425966aaec66\n",
            "  Installing build dependencies ... \u001b[?25l\u001b[?25hdone\n",
            "  Getting requirements to build wheel ... \u001b[?25l\u001b[?25hdone\n",
            "  Installing backend dependencies ... \u001b[?25l\u001b[?25hdone\n",
            "  Preparing metadata (pyproject.toml) ... \u001b[?25l\u001b[?25hdone\n",
            "Requirement already satisfied: requests[socks] in /usr/local/lib/python3.10/dist-packages (from snscrape==0.7.0.20230622) (2.27.1)\n",
            "Requirement already satisfied: lxml in /usr/local/lib/python3.10/dist-packages (from snscrape==0.7.0.20230622) (4.9.3)\n",
            "Requirement already satisfied: beautifulsoup4 in /usr/local/lib/python3.10/dist-packages (from snscrape==0.7.0.20230622) (4.11.2)\n",
            "Requirement already satisfied: filelock in /usr/local/lib/python3.10/dist-packages (from snscrape==0.7.0.20230622) (3.12.2)\n",
            "Requirement already satisfied: soupsieve>1.2 in /usr/local/lib/python3.10/dist-packages (from beautifulsoup4->snscrape==0.7.0.20230622) (2.4.1)\n",
            "Requirement already satisfied: urllib3<1.27,>=1.21.1 in /usr/local/lib/python3.10/dist-packages (from requests[socks]->snscrape==0.7.0.20230622) (1.26.16)\n",
            "Requirement already satisfied: certifi>=2017.4.17 in /usr/local/lib/python3.10/dist-packages (from requests[socks]->snscrape==0.7.0.20230622) (2023.5.7)\n",
            "Requirement already satisfied: charset-normalizer~=2.0.0 in /usr/local/lib/python3.10/dist-packages (from requests[socks]->snscrape==0.7.0.20230622) (2.0.12)\n",
            "Requirement already satisfied: idna<4,>=2.5 in /usr/local/lib/python3.10/dist-packages (from requests[socks]->snscrape==0.7.0.20230622) (3.4)\n",
            "Requirement already satisfied: PySocks!=1.5.7,>=1.5.6 in /usr/local/lib/python3.10/dist-packages (from requests[socks]->snscrape==0.7.0.20230622) (1.7.1)\n",
            "Building wheels for collected packages: snscrape\n",
            "  Building wheel for snscrape (pyproject.toml) ... \u001b[?25l\u001b[?25hdone\n",
            "  Created wheel for snscrape: filename=snscrape-0.7.0.20230622-py3-none-any.whl size=74814 sha256=c54d218a8faf503fe47e5e63dd741b6e8a6c2a1f27bfa5897be85a6d12d4b67a\n",
            "  Stored in directory: /tmp/pip-ephem-wheel-cache-mn4stfui/wheels/05/e9/f7/57056e7c7e44b1feed932fa49fdec9d706c4f563e37160ab74\n",
            "Successfully built snscrape\n",
            "Installing collected packages: snscrape\n",
            "Successfully installed snscrape-0.7.0.20230622\n"
          ]
        }
      ]
    },
    {
      "cell_type": "code",
      "source": [
        "import snscrape.modules.twitter as sntwitter\n",
        "import pandas as pd\n",
        "\n",
        "# Setting variables to be used below\n",
        "# maxTweets = 5000\n",
        "\n",
        "# Creating list to append tweet data to\n",
        "tweets_list1 = []\n",
        "\n",
        "# Using TwitterSearchScraper to scrape data and append tweets to list\n",
        "for i, tweet in enumerate(sntwitter.TwitterSearchScraper('bitcoin since:2021-07-01 until:2022-12-31').get_items()):\n",
        "    # if i>maxTweets:\n",
        "    #     break\n",
        "\n",
        "    tweets_list1.append([tweet.date, tweet.id, tweet.rawContent, tweet.user.username])\n",
        "\n",
        "    if (i + 1) % 5000 == 0:\n",
        "\n",
        "        # Creating a dataframe from the tweets list above\n",
        "        tweet_df1 = pd.DataFrame(tweets_list1, columns=['Datetime', 'Tweet Id', 'Text', 'Username'])\n",
        "        print(tweet_df1)\n",
        "\n",
        "        # Export dataframe into a csv\n",
        "        tweet_df1.to_csv(f'bitcoin-{(i+1)/5000}.csv', sep=',', index=False)\n",
        "        tweets_list1 = []"
      ],
      "metadata": {
        "colab": {
          "base_uri": "https://localhost:8080/",
          "height": 471
        },
        "id": "wTeIzRvUW1_P",
        "outputId": "10a4d2ba-4b71-4314-9ec9-9ef08eefb1b9"
      },
      "execution_count": 7,
      "outputs": [
        {
          "output_type": "stream",
          "name": "stderr",
          "text": [
            "ERROR:snscrape.base:Error retrieving https://twitter.com/i/api/graphql/7jT5GT59P8IFjgxwqnEdQw/SearchTimeline?variables=%7B%22rawQuery%22%3A%22bitcoin%20since%3A2021-07-01%20until%3A2022-12-31%22%2C%22count%22%3A20%2C%22product%22%3A%22Latest%22%2C%22withDownvotePerspective%22%3Afalse%2C%22withReactionsMetadata%22%3Afalse%2C%22withReactionsPerspective%22%3Afalse%7D&features=%7B%22rweb_lists_timeline_redesign_enabled%22%3Afalse%2C%22blue_business_profile_image_shape_enabled%22%3Afalse%2C%22responsive_web_graphql_exclude_directive_enabled%22%3Atrue%2C%22verified_phone_label_enabled%22%3Afalse%2C%22creator_subscriptions_tweet_preview_api_enabled%22%3Afalse%2C%22responsive_web_graphql_timeline_navigation_enabled%22%3Atrue%2C%22responsive_web_graphql_skip_user_profile_image_extensions_enabled%22%3Afalse%2C%22tweetypie_unmention_optimization_enabled%22%3Atrue%2C%22vibe_api_enabled%22%3Atrue%2C%22responsive_web_edit_tweet_api_enabled%22%3Atrue%2C%22graphql_is_translatable_rweb_tweet_is_translatable_enabled%22%3Atrue%2C%22view_counts_everywhere_api_enabled%22%3Atrue%2C%22longform_notetweets_consumption_enabled%22%3Atrue%2C%22tweet_awards_web_tipping_enabled%22%3Afalse%2C%22freedom_of_speech_not_reach_fetch_enabled%22%3Afalse%2C%22standardized_nudges_misinfo%22%3Atrue%2C%22tweet_with_visibility_results_prefer_gql_limited_actions_policy_enabled%22%3Afalse%2C%22interactive_text_enabled%22%3Atrue%2C%22responsive_web_text_conversations_enabled%22%3Afalse%2C%22longform_notetweets_rich_text_read_enabled%22%3Afalse%2C%22longform_notetweets_inline_media_enabled%22%3Afalse%2C%22responsive_web_enhance_cards_enabled%22%3Afalse%2C%22responsive_web_twitter_blue_verified_badge_is_enabled%22%3Atrue%7D: blocked (404)\n",
            "CRITICAL:snscrape.base:4 requests to https://twitter.com/i/api/graphql/7jT5GT59P8IFjgxwqnEdQw/SearchTimeline?variables=%7B%22rawQuery%22%3A%22bitcoin%20since%3A2021-07-01%20until%3A2022-12-31%22%2C%22count%22%3A20%2C%22product%22%3A%22Latest%22%2C%22withDownvotePerspective%22%3Afalse%2C%22withReactionsMetadata%22%3Afalse%2C%22withReactionsPerspective%22%3Afalse%7D&features=%7B%22rweb_lists_timeline_redesign_enabled%22%3Afalse%2C%22blue_business_profile_image_shape_enabled%22%3Afalse%2C%22responsive_web_graphql_exclude_directive_enabled%22%3Atrue%2C%22verified_phone_label_enabled%22%3Afalse%2C%22creator_subscriptions_tweet_preview_api_enabled%22%3Afalse%2C%22responsive_web_graphql_timeline_navigation_enabled%22%3Atrue%2C%22responsive_web_graphql_skip_user_profile_image_extensions_enabled%22%3Afalse%2C%22tweetypie_unmention_optimization_enabled%22%3Atrue%2C%22vibe_api_enabled%22%3Atrue%2C%22responsive_web_edit_tweet_api_enabled%22%3Atrue%2C%22graphql_is_translatable_rweb_tweet_is_translatable_enabled%22%3Atrue%2C%22view_counts_everywhere_api_enabled%22%3Atrue%2C%22longform_notetweets_consumption_enabled%22%3Atrue%2C%22tweet_awards_web_tipping_enabled%22%3Afalse%2C%22freedom_of_speech_not_reach_fetch_enabled%22%3Afalse%2C%22standardized_nudges_misinfo%22%3Atrue%2C%22tweet_with_visibility_results_prefer_gql_limited_actions_policy_enabled%22%3Afalse%2C%22interactive_text_enabled%22%3Atrue%2C%22responsive_web_text_conversations_enabled%22%3Afalse%2C%22longform_notetweets_rich_text_read_enabled%22%3Afalse%2C%22longform_notetweets_inline_media_enabled%22%3Afalse%2C%22responsive_web_enhance_cards_enabled%22%3Afalse%2C%22responsive_web_twitter_blue_verified_badge_is_enabled%22%3Atrue%7D failed, giving up.\n",
            "CRITICAL:snscrape.base:Errors: blocked (404), blocked (404), blocked (404), blocked (404)\n"
          ]
        },
        {
          "output_type": "error",
          "ename": "ScraperException",
          "evalue": "ignored",
          "traceback": [
            "\u001b[0;31m---------------------------------------------------------------------------\u001b[0m",
            "\u001b[0;31mScraperException\u001b[0m                          Traceback (most recent call last)",
            "\u001b[0;32m<ipython-input-7-799a96841a1d>\u001b[0m in \u001b[0;36m<cell line: 11>\u001b[0;34m()\u001b[0m\n\u001b[1;32m      9\u001b[0m \u001b[0;34m\u001b[0m\u001b[0m\n\u001b[1;32m     10\u001b[0m \u001b[0;31m# Using TwitterSearchScraper to scrape data and append tweets to list\u001b[0m\u001b[0;34m\u001b[0m\u001b[0;34m\u001b[0m\u001b[0m\n\u001b[0;32m---> 11\u001b[0;31m \u001b[0;32mfor\u001b[0m \u001b[0mi\u001b[0m\u001b[0;34m,\u001b[0m \u001b[0mtweet\u001b[0m \u001b[0;32min\u001b[0m \u001b[0menumerate\u001b[0m\u001b[0;34m(\u001b[0m\u001b[0msntwitter\u001b[0m\u001b[0;34m.\u001b[0m\u001b[0mTwitterSearchScraper\u001b[0m\u001b[0;34m(\u001b[0m\u001b[0;34m'bitcoin since:2021-07-01 until:2022-12-31'\u001b[0m\u001b[0;34m)\u001b[0m\u001b[0;34m.\u001b[0m\u001b[0mget_items\u001b[0m\u001b[0;34m(\u001b[0m\u001b[0;34m)\u001b[0m\u001b[0;34m)\u001b[0m\u001b[0;34m:\u001b[0m\u001b[0;34m\u001b[0m\u001b[0;34m\u001b[0m\u001b[0m\n\u001b[0m\u001b[1;32m     12\u001b[0m     \u001b[0;31m# if i>maxTweets:\u001b[0m\u001b[0;34m\u001b[0m\u001b[0;34m\u001b[0m\u001b[0m\n\u001b[1;32m     13\u001b[0m     \u001b[0;31m#     break\u001b[0m\u001b[0;34m\u001b[0m\u001b[0;34m\u001b[0m\u001b[0m\n",
            "\u001b[0;32m/usr/local/lib/python3.10/dist-packages/snscrape/modules/twitter.py\u001b[0m in \u001b[0;36mget_items\u001b[0;34m(self)\u001b[0m\n\u001b[1;32m   1761\u001b[0m                 \u001b[0mpaginationParams\u001b[0m \u001b[0;34m=\u001b[0m \u001b[0;34m{\u001b[0m\u001b[0;34m'variables'\u001b[0m\u001b[0;34m:\u001b[0m \u001b[0mpaginationVariables\u001b[0m\u001b[0;34m,\u001b[0m \u001b[0;34m'features'\u001b[0m\u001b[0;34m:\u001b[0m \u001b[0mfeatures\u001b[0m\u001b[0;34m}\u001b[0m\u001b[0;34m\u001b[0m\u001b[0;34m\u001b[0m\u001b[0m\n\u001b[1;32m   1762\u001b[0m \u001b[0;34m\u001b[0m\u001b[0m\n\u001b[0;32m-> 1763\u001b[0;31m                 \u001b[0;32mfor\u001b[0m \u001b[0mobj\u001b[0m \u001b[0;32min\u001b[0m \u001b[0mself\u001b[0m\u001b[0;34m.\u001b[0m\u001b[0m_iter_api_data\u001b[0m\u001b[0;34m(\u001b[0m\u001b[0;34m'https://twitter.com/i/api/graphql/7jT5GT59P8IFjgxwqnEdQw/SearchTimeline'\u001b[0m\u001b[0;34m,\u001b[0m \u001b[0m_TwitterAPIType\u001b[0m\u001b[0;34m.\u001b[0m\u001b[0mGRAPHQL\u001b[0m\u001b[0;34m,\u001b[0m \u001b[0mparams\u001b[0m\u001b[0;34m,\u001b[0m \u001b[0mpaginationParams\u001b[0m\u001b[0;34m,\u001b[0m \u001b[0mcursor\u001b[0m \u001b[0;34m=\u001b[0m \u001b[0mself\u001b[0m\u001b[0;34m.\u001b[0m\u001b[0m_cursor\u001b[0m\u001b[0;34m,\u001b[0m \u001b[0minstructionsPath\u001b[0m \u001b[0;34m=\u001b[0m \u001b[0;34m[\u001b[0m\u001b[0;34m'data'\u001b[0m\u001b[0;34m,\u001b[0m \u001b[0;34m'search_by_raw_query'\u001b[0m\u001b[0;34m,\u001b[0m \u001b[0;34m'search_timeline'\u001b[0m\u001b[0;34m,\u001b[0m \u001b[0;34m'timeline'\u001b[0m\u001b[0;34m,\u001b[0m \u001b[0;34m'instructions'\u001b[0m\u001b[0;34m]\u001b[0m\u001b[0;34m)\u001b[0m\u001b[0;34m:\u001b[0m\u001b[0;34m\u001b[0m\u001b[0;34m\u001b[0m\u001b[0m\n\u001b[0m\u001b[1;32m   1764\u001b[0m                         \u001b[0;32myield\u001b[0m \u001b[0;32mfrom\u001b[0m \u001b[0mself\u001b[0m\u001b[0;34m.\u001b[0m\u001b[0m_graphql_timeline_instructions_to_tweets\u001b[0m\u001b[0;34m(\u001b[0m\u001b[0mobj\u001b[0m\u001b[0;34m[\u001b[0m\u001b[0;34m'data'\u001b[0m\u001b[0;34m]\u001b[0m\u001b[0;34m[\u001b[0m\u001b[0;34m'search_by_raw_query'\u001b[0m\u001b[0;34m]\u001b[0m\u001b[0;34m[\u001b[0m\u001b[0;34m'search_timeline'\u001b[0m\u001b[0;34m]\u001b[0m\u001b[0;34m[\u001b[0m\u001b[0;34m'timeline'\u001b[0m\u001b[0;34m]\u001b[0m\u001b[0;34m[\u001b[0m\u001b[0;34m'instructions'\u001b[0m\u001b[0;34m]\u001b[0m\u001b[0;34m)\u001b[0m\u001b[0;34m\u001b[0m\u001b[0;34m\u001b[0m\u001b[0m\n\u001b[1;32m   1765\u001b[0m \u001b[0;34m\u001b[0m\u001b[0m\n",
            "\u001b[0;32m/usr/local/lib/python3.10/dist-packages/snscrape/modules/twitter.py\u001b[0m in \u001b[0;36m_iter_api_data\u001b[0;34m(self, endpoint, apiType, params, paginationParams, cursor, direction, instructionsPath)\u001b[0m\n\u001b[1;32m    913\u001b[0m                 \u001b[0;32mwhile\u001b[0m \u001b[0;32mTrue\u001b[0m\u001b[0;34m:\u001b[0m\u001b[0;34m\u001b[0m\u001b[0;34m\u001b[0m\u001b[0m\n\u001b[1;32m    914\u001b[0m                         \u001b[0m_logger\u001b[0m\u001b[0;34m.\u001b[0m\u001b[0minfo\u001b[0m\u001b[0;34m(\u001b[0m\u001b[0;34mf'Retrieving scroll page {cursor}'\u001b[0m\u001b[0;34m)\u001b[0m\u001b[0;34m\u001b[0m\u001b[0;34m\u001b[0m\u001b[0m\n\u001b[0;32m--> 915\u001b[0;31m                         \u001b[0mobj\u001b[0m \u001b[0;34m=\u001b[0m \u001b[0mself\u001b[0m\u001b[0;34m.\u001b[0m\u001b[0m_get_api_data\u001b[0m\u001b[0;34m(\u001b[0m\u001b[0mendpoint\u001b[0m\u001b[0;34m,\u001b[0m \u001b[0mapiType\u001b[0m\u001b[0;34m,\u001b[0m \u001b[0mreqParams\u001b[0m\u001b[0;34m,\u001b[0m \u001b[0minstructionsPath\u001b[0m \u001b[0;34m=\u001b[0m \u001b[0minstructionsPath\u001b[0m\u001b[0;34m)\u001b[0m\u001b[0;34m\u001b[0m\u001b[0;34m\u001b[0m\u001b[0m\n\u001b[0m\u001b[1;32m    916\u001b[0m                         \u001b[0;32myield\u001b[0m \u001b[0mobj\u001b[0m\u001b[0;34m\u001b[0m\u001b[0;34m\u001b[0m\u001b[0m\n\u001b[1;32m    917\u001b[0m \u001b[0;34m\u001b[0m\u001b[0m\n",
            "\u001b[0;32m/usr/local/lib/python3.10/dist-packages/snscrape/modules/twitter.py\u001b[0m in \u001b[0;36m_get_api_data\u001b[0;34m(self, endpoint, apiType, params, instructionsPath)\u001b[0m\n\u001b[1;32m    884\u001b[0m                 \u001b[0;32mif\u001b[0m \u001b[0mapiType\u001b[0m \u001b[0;32mis\u001b[0m \u001b[0m_TwitterAPIType\u001b[0m\u001b[0;34m.\u001b[0m\u001b[0mGRAPHQL\u001b[0m\u001b[0;34m:\u001b[0m\u001b[0;34m\u001b[0m\u001b[0;34m\u001b[0m\u001b[0m\n\u001b[1;32m    885\u001b[0m                         \u001b[0mparams\u001b[0m \u001b[0;34m=\u001b[0m \u001b[0murllib\u001b[0m\u001b[0;34m.\u001b[0m\u001b[0mparse\u001b[0m\u001b[0;34m.\u001b[0m\u001b[0murlencode\u001b[0m\u001b[0;34m(\u001b[0m\u001b[0;34m{\u001b[0m\u001b[0mk\u001b[0m\u001b[0;34m:\u001b[0m \u001b[0mjson\u001b[0m\u001b[0;34m.\u001b[0m\u001b[0mdumps\u001b[0m\u001b[0;34m(\u001b[0m\u001b[0mv\u001b[0m\u001b[0;34m,\u001b[0m \u001b[0mseparators\u001b[0m \u001b[0;34m=\u001b[0m \u001b[0;34m(\u001b[0m\u001b[0;34m','\u001b[0m\u001b[0;34m,\u001b[0m \u001b[0;34m':'\u001b[0m\u001b[0;34m)\u001b[0m\u001b[0;34m)\u001b[0m \u001b[0;32mfor\u001b[0m \u001b[0mk\u001b[0m\u001b[0;34m,\u001b[0m \u001b[0mv\u001b[0m \u001b[0;32min\u001b[0m \u001b[0mparams\u001b[0m\u001b[0;34m.\u001b[0m\u001b[0mitems\u001b[0m\u001b[0;34m(\u001b[0m\u001b[0;34m)\u001b[0m\u001b[0;34m}\u001b[0m\u001b[0;34m,\u001b[0m \u001b[0mquote_via\u001b[0m \u001b[0;34m=\u001b[0m \u001b[0murllib\u001b[0m\u001b[0;34m.\u001b[0m\u001b[0mparse\u001b[0m\u001b[0;34m.\u001b[0m\u001b[0mquote\u001b[0m\u001b[0;34m)\u001b[0m\u001b[0;34m\u001b[0m\u001b[0;34m\u001b[0m\u001b[0m\n\u001b[0;32m--> 886\u001b[0;31m                 \u001b[0mr\u001b[0m \u001b[0;34m=\u001b[0m \u001b[0mself\u001b[0m\u001b[0;34m.\u001b[0m\u001b[0m_get\u001b[0m\u001b[0;34m(\u001b[0m\u001b[0mendpoint\u001b[0m\u001b[0;34m,\u001b[0m \u001b[0mparams\u001b[0m \u001b[0;34m=\u001b[0m \u001b[0mparams\u001b[0m\u001b[0;34m,\u001b[0m \u001b[0mheaders\u001b[0m \u001b[0;34m=\u001b[0m \u001b[0mself\u001b[0m\u001b[0;34m.\u001b[0m\u001b[0m_apiHeaders\u001b[0m\u001b[0;34m,\u001b[0m \u001b[0mresponseOkCallback\u001b[0m \u001b[0;34m=\u001b[0m \u001b[0mfunctools\u001b[0m\u001b[0;34m.\u001b[0m\u001b[0mpartial\u001b[0m\u001b[0;34m(\u001b[0m\u001b[0mself\u001b[0m\u001b[0;34m.\u001b[0m\u001b[0m_check_api_response\u001b[0m\u001b[0;34m,\u001b[0m \u001b[0mapiType\u001b[0m \u001b[0;34m=\u001b[0m \u001b[0mapiType\u001b[0m\u001b[0;34m,\u001b[0m \u001b[0minstructionsPath\u001b[0m \u001b[0;34m=\u001b[0m \u001b[0minstructionsPath\u001b[0m\u001b[0;34m)\u001b[0m\u001b[0;34m)\u001b[0m\u001b[0;34m\u001b[0m\u001b[0;34m\u001b[0m\u001b[0m\n\u001b[0m\u001b[1;32m    887\u001b[0m                 \u001b[0;32mreturn\u001b[0m \u001b[0mr\u001b[0m\u001b[0;34m.\u001b[0m\u001b[0m_snscrapeObj\u001b[0m\u001b[0;34m\u001b[0m\u001b[0;34m\u001b[0m\u001b[0m\n\u001b[1;32m    888\u001b[0m \u001b[0;34m\u001b[0m\u001b[0m\n",
            "\u001b[0;32m/usr/local/lib/python3.10/dist-packages/snscrape/base.py\u001b[0m in \u001b[0;36m_get\u001b[0;34m(self, *args, **kwargs)\u001b[0m\n\u001b[1;32m    273\u001b[0m \u001b[0;34m\u001b[0m\u001b[0m\n\u001b[1;32m    274\u001b[0m         \u001b[0;32mdef\u001b[0m \u001b[0m_get\u001b[0m\u001b[0;34m(\u001b[0m\u001b[0mself\u001b[0m\u001b[0;34m,\u001b[0m \u001b[0;34m*\u001b[0m\u001b[0margs\u001b[0m\u001b[0;34m,\u001b[0m \u001b[0;34m**\u001b[0m\u001b[0mkwargs\u001b[0m\u001b[0;34m)\u001b[0m\u001b[0;34m:\u001b[0m\u001b[0;34m\u001b[0m\u001b[0;34m\u001b[0m\u001b[0m\n\u001b[0;32m--> 275\u001b[0;31m                 \u001b[0;32mreturn\u001b[0m \u001b[0mself\u001b[0m\u001b[0;34m.\u001b[0m\u001b[0m_request\u001b[0m\u001b[0;34m(\u001b[0m\u001b[0;34m'GET'\u001b[0m\u001b[0;34m,\u001b[0m \u001b[0;34m*\u001b[0m\u001b[0margs\u001b[0m\u001b[0;34m,\u001b[0m \u001b[0;34m**\u001b[0m\u001b[0mkwargs\u001b[0m\u001b[0;34m)\u001b[0m\u001b[0;34m\u001b[0m\u001b[0;34m\u001b[0m\u001b[0m\n\u001b[0m\u001b[1;32m    276\u001b[0m \u001b[0;34m\u001b[0m\u001b[0m\n\u001b[1;32m    277\u001b[0m         \u001b[0;32mdef\u001b[0m \u001b[0m_post\u001b[0m\u001b[0;34m(\u001b[0m\u001b[0mself\u001b[0m\u001b[0;34m,\u001b[0m \u001b[0;34m*\u001b[0m\u001b[0margs\u001b[0m\u001b[0;34m,\u001b[0m \u001b[0;34m**\u001b[0m\u001b[0mkwargs\u001b[0m\u001b[0;34m)\u001b[0m\u001b[0;34m:\u001b[0m\u001b[0;34m\u001b[0m\u001b[0;34m\u001b[0m\u001b[0m\n",
            "\u001b[0;32m/usr/local/lib/python3.10/dist-packages/snscrape/base.py\u001b[0m in \u001b[0;36m_request\u001b[0;34m(self, method, url, params, data, headers, timeout, responseOkCallback, allowRedirects, proxies)\u001b[0m\n\u001b[1;32m    269\u001b[0m                         \u001b[0m_logger\u001b[0m\u001b[0;34m.\u001b[0m\u001b[0mfatal\u001b[0m\u001b[0;34m(\u001b[0m\u001b[0mmsg\u001b[0m\u001b[0;34m)\u001b[0m\u001b[0;34m\u001b[0m\u001b[0;34m\u001b[0m\u001b[0m\n\u001b[1;32m    270\u001b[0m                         \u001b[0m_logger\u001b[0m\u001b[0;34m.\u001b[0m\u001b[0mfatal\u001b[0m\u001b[0;34m(\u001b[0m\u001b[0;34mf'Errors: {\", \".join(errors)}'\u001b[0m\u001b[0;34m)\u001b[0m\u001b[0;34m\u001b[0m\u001b[0;34m\u001b[0m\u001b[0m\n\u001b[0;32m--> 271\u001b[0;31m                         \u001b[0;32mraise\u001b[0m \u001b[0mScraperException\u001b[0m\u001b[0;34m(\u001b[0m\u001b[0mmsg\u001b[0m\u001b[0;34m)\u001b[0m\u001b[0;34m\u001b[0m\u001b[0;34m\u001b[0m\u001b[0m\n\u001b[0m\u001b[1;32m    272\u001b[0m                 \u001b[0;32mraise\u001b[0m \u001b[0mRuntimeError\u001b[0m\u001b[0;34m(\u001b[0m\u001b[0;34m'Reached unreachable code'\u001b[0m\u001b[0;34m)\u001b[0m\u001b[0;34m\u001b[0m\u001b[0;34m\u001b[0m\u001b[0m\n\u001b[1;32m    273\u001b[0m \u001b[0;34m\u001b[0m\u001b[0m\n",
            "\u001b[0;31mScraperException\u001b[0m: 4 requests to https://twitter.com/i/api/graphql/7jT5GT59P8IFjgxwqnEdQw/SearchTimeline?variables=%7B%22rawQuery%22%3A%22bitcoin%20since%3A2021-07-01%20until%3A2022-12-31%22%2C%22count%22%3A20%2C%22product%22%3A%22Latest%22%2C%22withDownvotePerspective%22%3Afalse%2C%22withReactionsMetadata%22%3Afalse%2C%22withReactionsPerspective%22%3Afalse%7D&features=%7B%22rweb_lists_timeline_redesign_enabled%22%3Afalse%2C%22blue_business_profile_image_shape_enabled%22%3Afalse%2C%22responsive_web_graphql_exclude_directive_enabled%22%3Atrue%2C%22verified_phone_label_enabled%22%3Afalse%2C%22creator_subscriptions_tweet_preview_api_enabled%22%3Afalse%2C%22responsive_web_graphql_timeline_navigation_enabled%22%3Atrue%2C%22responsive_web_graphql_skip_user_profile_image_extensions_enabled%22%3Afalse%2C%22tweetypie_unmention_optimization_enabled%22%3Atrue%2C%22vibe_api_enabled%22%3Atrue%2C%22responsive_web_edit_tweet_api_enabled%22%3Atrue%2C%22graphql_is_translatable_rweb_tweet_is_translatable_enabled%22%3Atrue%2C%22view_counts_everywhere_api_enabled%22%3Atrue%2C%22longform_notetweets_consumption_enabled%22%3Atrue%2C%22tweet_awards_web_tipping_enabled%22%3Afalse%2C%22freedom_of_speech_not_reach_fetch_enabled%22%3Afalse%2C%22standardized_nudges_misinfo%22%3Atrue%2C%22tweet_with_visibility_results_prefer_gql_limited_actions_policy_enabled%22%3Afalse%2C%22interactive_text_enabled%22%3Atrue%2C%22responsive_web_text_conversations_enabled%22%3Afalse%2C%22longform_notetweets_r..."
          ]
        }
      ]
    },
    {
      "cell_type": "code",
      "source": [
        "import requests\n",
        "\n",
        "url = \"https://cdn.syndication.twimg.com/tweet-result\"\n",
        "\n",
        "querystring = {\"id\":\"1157632035826962433\",\"lang\":\"en\"}\n",
        "\n",
        "payload = \"\"\n",
        "headers = {\n",
        "    \"User-Agent\": \"Mozilla/5.0 (Windows NT 10.0; Win64; x64; rv:109.0) Gecko/20100101 Firefox/114.0\",\n",
        "    \"Accept\": \"*/*\",\n",
        "    \"Accept-Language\": \"en-US,en;q=0.5\",\n",
        "    \"Accept-Encoding\": \"gzip, deflate, br\",\n",
        "    \"Origin\": \"https://platform.twitter.com\",\n",
        "    \"Connection\": \"keep-alive\",\n",
        "    \"Referer\": \"https://platform.twitter.com/\",\n",
        "    \"Sec-Fetch-Dest\": \"empty\",\n",
        "    \"Sec-Fetch-Mode\": \"cors\",\n",
        "    \"Sec-Fetch-Site\": \"cross-site\",\n",
        "    \"Pragma\": \"no-cache\",\n",
        "    \"Cache-Control\": \"no-cache\",\n",
        "    \"TE\": \"trailers\"\n",
        "}\n",
        "\n",
        "response = requests.request(\"GET\", url, data=payload, headers=headers, params=querystring)\n",
        "\n",
        "print(response.text)"
      ],
      "metadata": {
        "colab": {
          "base_uri": "https://localhost:8080/"
        },
        "id": "8WUs5ZY0fYwk",
        "outputId": "1985a43f-010d-48b4-8b15-123fc8552f87"
      },
      "execution_count": 10,
      "outputs": [
        {
          "output_type": "stream",
          "name": "stdout",
          "text": [
            "{\"__typename\":\"Tweet\",\"lang\":\"th\",\"favorite_count\":9406,\"possibly_sensitive\":false,\"created_at\":\"2019-08-03T12:39:19.000Z\",\"display_text_range\":[0,105],\"entities\":{\"hashtags\":[],\"urls\":[],\"user_mentions\":[],\"symbols\":[],\"media\":[{\"display_url\":\"pic.twitter.com/7JR87UnEsd\",\"expanded_url\":\"https://twitter.com/Eig_Banphot/status/1157632035826962433/photo/1\",\"indices\":[106,129],\"url\":\"https://t.co/7JR87UnEsd\"}]},\"id_str\":\"1157632035826962433\",\"text\":\"ธุรกิจที่แข่งขันดุเดือดมากๆตอนนี้ คือ ธุรกิจน้ำเปล่า \\n.\\nน้ำเหมือนกัน แต่ต้องทำให้ลูกค้ารู้สึกไม่เหมือนกัน https://t.co/7JR87UnEsd\",\"user\":{\"id_str\":\"143779120\",\"name\":\"อิก บรรพต ธนาเพิ่มสุข\",\"profile_image_url_https\":\"https://pbs.twimg.com/profile_images/1659155637769732097/_Z5ngoaD_normal.jpg\",\"screen_name\":\"Eig_Banphot\",\"verified\":false,\"is_blue_verified\":true,\"profile_image_shape\":\"Circle\"},\"edit_control\":{\"edit_tweet_ids\":[\"1157632035826962433\"],\"editable_until_msecs\":\"1564837759761\",\"is_edit_eligible\":true,\"edits_remaining\":\"5\"},\"mediaDetails\":[{\"display_url\":\"pic.twitter.com/7JR87UnEsd\",\"expanded_url\":\"https://twitter.com/Eig_Banphot/status/1157632035826962433/photo/1\",\"ext_media_availability\":{\"status\":\"Available\"},\"indices\":[106,129],\"media_url_https\":\"https://pbs.twimg.com/media/EBC8LcAUYAMiDiP.jpg\",\"original_info\":{\"height\":2048,\"width\":1536,\"focus_rects\":[{\"x\":0,\"y\":338,\"w\":1536,\"h\":860},{\"x\":0,\"y\":0,\"w\":1536,\"h\":1536},{\"x\":0,\"y\":0,\"w\":1536,\"h\":1751},{\"x\":0,\"y\":0,\"w\":1024,\"h\":2048},{\"x\":0,\"y\":0,\"w\":1536,\"h\":2048}]},\"sizes\":{\"large\":{\"h\":2048,\"resize\":\"fit\",\"w\":1536},\"medium\":{\"h\":1200,\"resize\":\"fit\",\"w\":900},\"small\":{\"h\":680,\"resize\":\"fit\",\"w\":510},\"thumb\":{\"h\":150,\"resize\":\"crop\",\"w\":150}},\"type\":\"photo\",\"url\":\"https://t.co/7JR87UnEsd\"},{\"display_url\":\"pic.twitter.com/7JR87UnEsd\",\"expanded_url\":\"https://twitter.com/Eig_Banphot/status/1157632035826962433/photo/1\",\"ext_media_availability\":{\"status\":\"Available\"},\"indices\":[106,129],\"media_url_https\":\"https://pbs.twimg.com/media/EBC8Lb-U4AEUlst.jpg\",\"original_info\":{\"height\":2048,\"width\":1536,\"focus_rects\":[{\"x\":0,\"y\":30,\"w\":1536,\"h\":860},{\"x\":0,\"y\":0,\"w\":1536,\"h\":1536},{\"x\":0,\"y\":0,\"w\":1536,\"h\":1751},{\"x\":0,\"y\":0,\"w\":1024,\"h\":2048},{\"x\":0,\"y\":0,\"w\":1536,\"h\":2048}]},\"sizes\":{\"large\":{\"h\":2048,\"resize\":\"fit\",\"w\":1536},\"medium\":{\"h\":1200,\"resize\":\"fit\",\"w\":900},\"small\":{\"h\":680,\"resize\":\"fit\",\"w\":510},\"thumb\":{\"h\":150,\"resize\":\"crop\",\"w\":150}},\"type\":\"photo\",\"url\":\"https://t.co/7JR87UnEsd\"}],\"photos\":[{\"backgroundColor\":{\"red\":204,\"green\":214,\"blue\":221},\"cropCandidates\":[{\"x\":0,\"y\":338,\"w\":1536,\"h\":860},{\"x\":0,\"y\":0,\"w\":1536,\"h\":1536},{\"x\":0,\"y\":0,\"w\":1536,\"h\":1751},{\"x\":0,\"y\":0,\"w\":1024,\"h\":2048},{\"x\":0,\"y\":0,\"w\":1536,\"h\":2048}],\"expandedUrl\":\"https://twitter.com/Eig_Banphot/status/1157632035826962433/photo/1\",\"url\":\"https://pbs.twimg.com/media/EBC8LcAUYAMiDiP.jpg\",\"width\":1536,\"height\":2048},{\"backgroundColor\":{\"red\":204,\"green\":214,\"blue\":221},\"cropCandidates\":[{\"x\":0,\"y\":30,\"w\":1536,\"h\":860},{\"x\":0,\"y\":0,\"w\":1536,\"h\":1536},{\"x\":0,\"y\":0,\"w\":1536,\"h\":1751},{\"x\":0,\"y\":0,\"w\":1024,\"h\":2048},{\"x\":0,\"y\":0,\"w\":1536,\"h\":2048}],\"expandedUrl\":\"https://twitter.com/Eig_Banphot/status/1157632035826962433/photo/1\",\"url\":\"https://pbs.twimg.com/media/EBC8Lb-U4AEUlst.jpg\",\"width\":1536,\"height\":2048}],\"conversation_count\":289,\"news_action_type\":\"conversation\",\"isEdited\":false,\"isStaleEdit\":false}\n"
          ]
        }
      ]
    },
    {
      "cell_type": "code",
      "source": [
        "from snscrape.base import ScraperException\n",
        "from snscrape.modules.twitter import (\n",
        "    Tweet,\n",
        "    _TwitterAPIType,\n",
        "    TwitterTweetScraper,\n",
        "    TwitterTweetScraperMode,\n",
        ")\n",
        "\n",
        "\n",
        "def get_items(self):\n",
        "    variables = {\n",
        "        \"tweetId\": str(self._tweetId),\n",
        "        \"includePromotedContent\": True,\n",
        "        \"withCommunity\": True,\n",
        "        \"withVoice\": True,\n",
        "        # !!! these fields may be deprecated\n",
        "        # \"with_rux_injections\": False,\n",
        "        # \"withQuickPromoteEligibilityTweetFields\": True,\n",
        "        # \"withBirdwatchNotes\": False,\n",
        "        # \"withV2Timeline\": True,\n",
        "    }\n",
        "    features = {\n",
        "        \"responsive_web_graphql_exclude_directive_enabled\": True,\n",
        "        \"verified_phone_label_enabled\": False,\n",
        "        \"creator_subscriptions_tweet_preview_api_enabled\": False,\n",
        "        \"responsive_web_graphql_timeline_navigation_enabled\": True,\n",
        "        \"responsive_web_graphql_skip_user_profile_image_extensions_enabled\": False,\n",
        "        \"tweetypie_unmention_optimization_enabled\": True,\n",
        "        \"responsive_web_edit_tweet_api_enabled\": True,\n",
        "        \"graphql_is_translatable_rweb_tweet_is_translatable_enabled\": True,\n",
        "        \"view_counts_everywhere_api_enabled\": True,\n",
        "        \"longform_notetweets_consumption_enabled\": True,\n",
        "        \"tweet_awards_web_tipping_enabled\": False,\n",
        "        \"freedom_of_speech_not_reach_fetch_enabled\": True,\n",
        "        \"standardized_nudges_misinfo\": True,\n",
        "        \"tweet_with_visibility_results_prefer_gql_limited_actions_policy_enabled\": False,\n",
        "        \"longform_notetweets_rich_text_read_enabled\": True,\n",
        "        \"longform_notetweets_inline_media_enabled\": False,\n",
        "        \"responsive_web_enhance_cards_enabled\": False,\n",
        "        \"responsive_web_twitter_article_tweet_consumption_enabled\": False,  # new?\n",
        "        \"responsive_web_media_download_video_enabled\": True,  # new?\n",
        "        # !!! these fields may be deprecated\n",
        "        # \"rweb_lists_timeline_redesign_enabled\": False,\n",
        "        # \"vibe_api_enabled\": True,\n",
        "        # \"interactive_text_enabled\": True,\n",
        "        # \"blue_business_profile_image_shape_enabled\": True,\n",
        "        # \"responsive_web_text_conversations_enabled\": False,\n",
        "    }\n",
        "    fieldToggles = {\n",
        "        \"withArticleRichContentState\": True,\n",
        "        \"withAuxiliaryUserLabels\": True,\n",
        "    }\n",
        "    params = {\n",
        "        \"variables\": variables,\n",
        "        \"features\": features,\n",
        "        \"fieldToggles\": fieldToggles,  # seems optional\n",
        "    }\n",
        "    url = \"https://twitter.com/i/api/graphql/3HC_X_wzxnMmUBRIn3MWpQ/TweetResultByRestId\"\n",
        "    if self._mode is TwitterTweetScraperMode.SINGLE:\n",
        "        obj = self._get_api_data(url, _TwitterAPIType.GRAPHQL, params=params)\n",
        "        if not obj[\"data\"][\"tweetResult\"]:\n",
        "            return\n",
        "        yield self._graphql_timeline_tweet_item_result_to_tweet(\n",
        "            obj[\"data\"][\"tweetResult\"][\"result\"], tweetId=self._tweetId\n",
        "        )\n",
        "\n",
        "\n",
        "# replace this method\n",
        "TwitterTweetScraper.get_items = get_items\n",
        "\n",
        "\n",
        "def get_using_snscrape(tweet_id: int) -> Tweet | None:\n",
        "    print(\"Sending API request...\")\n",
        "    try:\n",
        "        for tweet in TwitterTweetScraper(tweet_id).get_items():\n",
        "            print(\"Response: %r.\" % tweet)\n",
        "            return tweet\n",
        "        print(\"No response from public API.\")\n",
        "    except ScraperException:\n",
        "        print(\"Scraping failed.\")\n",
        "\n",
        "get_using_snscrape(1157632035826962433)"
      ],
      "metadata": {
        "colab": {
          "base_uri": "https://localhost:8080/"
        },
        "id": "1z_SX19rgcpA",
        "outputId": "4770e3cd-d78d-4ae4-fa1e-6b309275f481"
      },
      "execution_count": 12,
      "outputs": [
        {
          "output_type": "stream",
          "name": "stdout",
          "text": [
            "Sending API request...\n",
            "Response: Tweet(url='https://twitter.com/Eig_Banphot/status/1157632035826962433', date=datetime.datetime(2019, 8, 3, 12, 39, 19, tzinfo=datetime.timezone.utc), rawContent='ธุรกิจที่แข่งขันดุเดือดมากๆตอนนี้ คือ ธุรกิจน้ำเปล่า \\n.\\nน้ำเหมือนกัน แต่ต้องทำให้ลูกค้ารู้สึกไม่เหมือนกัน https://t.co/7JR87UnEsd', renderedContent='ธุรกิจที่แข่งขันดุเดือดมากๆตอนนี้ คือ ธุรกิจน้ำเปล่า \\n.\\nน้ำเหมือนกัน แต่ต้องทำให้ลูกค้ารู้สึกไม่เหมือนกัน https://t.co/7JR87UnEsd', id=1157632035826962433, user=User(username='Eig_Banphot', id=143779120, displayname='อิก บรรพต ธนาเพิ่มสุข', rawDescription='อิก บรรพต ธนาเพิ่มสุข, AFPT Financial influencer | Investor | Father Co-Founder: FB| Youtube ถามอีก กับอิก Tam-Eig | host TNN ช่อง 16', renderedDescription='อิก บรรพต ธนาเพิ่มสุข, AFPT Financial influencer | Investor | Father Co-Founder: FB| Youtube ถามอีก กับอิก Tam-Eig | host TNN ช่อง 16', descriptionLinks=None, verified=False, created=datetime.datetime(2010, 5, 14, 11, 4, 47, tzinfo=datetime.timezone.utc), followersCount=72552, friendsCount=1400, statusesCount=45042, favouritesCount=8187, listedCount=285, mediaCount=6644, location='', protected=None, link=None, profileImageUrl='https://pbs.twimg.com/profile_images/1659155637769732097/_Z5ngoaD_normal.jpg', profileBannerUrl='https://pbs.twimg.com/profile_banners/143779120/1684407654', label=None, blue=True, blueType=None, profileImageShape=<ProfileImageShape.CIRCLE: 'circle'>), replyCount=289, retweetCount=72818, likeCount=9406, quoteCount=868, conversationId=1157632035826962433, lang='th', source=None, sourceUrl=None, sourceLabel=None, links=None, media=[Photo(previewUrl='https://pbs.twimg.com/media/EBC8LcAUYAMiDiP?format=jpg&name=small', fullUrl='https://pbs.twimg.com/media/EBC8LcAUYAMiDiP?format=jpg&name=orig', altText=None), Photo(previewUrl='https://pbs.twimg.com/media/EBC8Lb-U4AEUlst?format=jpg&name=small', fullUrl='https://pbs.twimg.com/media/EBC8Lb-U4AEUlst?format=jpg&name=orig', altText=None)], retweetedTweet=None, quotedTweet=None, inReplyToTweetId=None, inReplyToUser=None, mentionedUsers=None, coordinates=None, place=None, hashtags=None, cashtags=None, card=None, viewCount=None, vibe=None, bookmarkCount=116, pinned=None, editState=EditState(editTweetIds=[1157632035826962433], editableUntilDate=datetime.datetime(2019, 8, 3, 13, 9, 19, 761000, tzinfo=datetime.timezone.utc), editsRemaining=5), conversationControlPolicy=<ConversationControlPolicy.EVERYONE: 'everyone'>).\n"
          ]
        },
        {
          "output_type": "execute_result",
          "data": {
            "text/plain": [
              "Tweet(url='https://twitter.com/Eig_Banphot/status/1157632035826962433', date=datetime.datetime(2019, 8, 3, 12, 39, 19, tzinfo=datetime.timezone.utc), rawContent='ธุรกิจที่แข่งขันดุเดือดมากๆตอนนี้ คือ ธุรกิจน้ำเปล่า \\n.\\nน้ำเหมือนกัน แต่ต้องทำให้ลูกค้ารู้สึกไม่เหมือนกัน https://t.co/7JR87UnEsd', renderedContent='ธุรกิจที่แข่งขันดุเดือดมากๆตอนนี้ คือ ธุรกิจน้ำเปล่า \\n.\\nน้ำเหมือนกัน แต่ต้องทำให้ลูกค้ารู้สึกไม่เหมือนกัน https://t.co/7JR87UnEsd', id=1157632035826962433, user=User(username='Eig_Banphot', id=143779120, displayname='อิก บรรพต ธนาเพิ่มสุข', rawDescription='อิก บรรพต ธนาเพิ่มสุข, AFPT Financial influencer | Investor | Father Co-Founder: FB| Youtube ถามอีก กับอิก Tam-Eig | host TNN ช่อง 16', renderedDescription='อิก บรรพต ธนาเพิ่มสุข, AFPT Financial influencer | Investor | Father Co-Founder: FB| Youtube ถามอีก กับอิก Tam-Eig | host TNN ช่อง 16', descriptionLinks=None, verified=False, created=datetime.datetime(2010, 5, 14, 11, 4, 47, tzinfo=datetime.timezone.utc), followersCount=72552, friendsCount=1400, statusesCount=45042, favouritesCount=8187, listedCount=285, mediaCount=6644, location='', protected=None, link=None, profileImageUrl='https://pbs.twimg.com/profile_images/1659155637769732097/_Z5ngoaD_normal.jpg', profileBannerUrl='https://pbs.twimg.com/profile_banners/143779120/1684407654', label=None, blue=True, blueType=None, profileImageShape=<ProfileImageShape.CIRCLE: 'circle'>), replyCount=289, retweetCount=72818, likeCount=9406, quoteCount=868, conversationId=1157632035826962433, lang='th', source=None, sourceUrl=None, sourceLabel=None, links=None, media=[Photo(previewUrl='https://pbs.twimg.com/media/EBC8LcAUYAMiDiP?format=jpg&name=small', fullUrl='https://pbs.twimg.com/media/EBC8LcAUYAMiDiP?format=jpg&name=orig', altText=None), Photo(previewUrl='https://pbs.twimg.com/media/EBC8Lb-U4AEUlst?format=jpg&name=small', fullUrl='https://pbs.twimg.com/media/EBC8Lb-U4AEUlst?format=jpg&name=orig', altText=None)], retweetedTweet=None, quotedTweet=None, inReplyToTweetId=None, inReplyToUser=None, mentionedUsers=None, coordinates=None, place=None, hashtags=None, cashtags=None, card=None, viewCount=None, vibe=None, bookmarkCount=116, pinned=None, editState=EditState(editTweetIds=[1157632035826962433], editableUntilDate=datetime.datetime(2019, 8, 3, 13, 9, 19, 761000, tzinfo=datetime.timezone.utc), editsRemaining=5), conversationControlPolicy=<ConversationControlPolicy.EVERYONE: 'everyone'>)"
            ]
          },
          "metadata": {},
          "execution_count": 12
        }
      ]
    },
    {
      "cell_type": "markdown",
      "source": [
        "Might be the best solution: https://web.archive.org/web/*/https://twitter.com/ekaratrattagan*"
      ],
      "metadata": {
        "id": "t7woNuVfiUOJ"
      }
    }
  ]
}