{
  "nbformat": 4,
  "nbformat_minor": 0,
  "metadata": {
    "colab": {
      "provenance": [],
      "authorship_tag": "ABX9TyMxAbjeU5P8JoRHAqOQuKE3",
      "include_colab_link": true
    },
    "kernelspec": {
      "name": "python3",
      "display_name": "Python 3"
    },
    "language_info": {
      "name": "python"
    }
  },
  "cells": [
    {
      "cell_type": "markdown",
      "metadata": {
        "id": "view-in-github",
        "colab_type": "text"
      },
      "source": [
        "<a href=\"https://colab.research.google.com/github/ekaratnida/DADS5001-Data-Analytics-and-Data-Science-Tools-and-Programming/blob/main/01_Data_Sources/ReadBTCdata2.ipynb\" target=\"_parent\"><img src=\"https://colab.research.google.com/assets/colab-badge.svg\" alt=\"Open In Colab\"/></a>"
      ]
    },
    {
      "cell_type": "code",
      "source": [
        "import time, requests, pandas as pd\n",
        "\n",
        "INFO_URL = \"https://api.hyperliquid.xyz/info\""
      ],
      "metadata": {
        "id": "wMal_8Q_bO_8"
      },
      "execution_count": null,
      "outputs": []
    },
    {
      "cell_type": "code",
      "source": [
        "def fetch_hl_candles(coin=\"BTC\", interval=\"15m\", days=7):\n",
        "    now_ms = int(time.time() * 1000)\n",
        "    start_ms = now_ms - days * 24 * 60 * 60 * 1000\n",
        "    payload = {\n",
        "        \"type\": \"candleSnapshot\",\n",
        "        \"req\": {\"coin\": coin, \"interval\": interval, \"startTime\": start_ms, \"endTime\": now_ms},\n",
        "    }\n",
        "    r = requests.post(INFO_URL, json=payload, timeout=15)\n",
        "    r.raise_for_status()\n",
        "    data = r.json()  # list of candles\n",
        "    #print(data)\n",
        "    df = pd.DataFrame(data)\n",
        "\n",
        "    # rename and clean\n",
        "    rename = {\"t\":\"open_time\",\"T\":\"close_time\",\"o\":\"open\",\"h\":\"high\",\"l\":\"low\",\"c\":\"close\",\"v\":\"volume\",\"n\":\"trades\",\"i\":\"interval\",\"s\":\"symbol\"}\n",
        "    df = df.rename(columns=rename)\n",
        "    num_cols = [\"open\",\"high\",\"low\",\"close\",\"volume\"]\n",
        "    for c in num_cols:\n",
        "        df[c] = pd.to_numeric(df[c], errors=\"coerce\")\n",
        "    df[\"open_time\"]  = pd.to_datetime(df[\"open_time\"],  unit=\"ms\", utc=True)\n",
        "    df[\"close_time\"] = pd.to_datetime(df[\"close_time\"], unit=\"ms\", utc=True)\n",
        "    return df.sort_values(\"open_time\")"
      ],
      "metadata": {
        "id": "jR2O3MRQVgsn"
      },
      "execution_count": null,
      "outputs": []
    },
    {
      "cell_type": "code",
      "source": [
        "df = fetch_hl_candles(\"BTC\", \"1h\", days=7)\n",
        "print(df.shape)\n",
        "print(df.tail()) #[[\"open_time\",\"open\",\"high\",\"low\",\"close\"]])\n"
      ],
      "metadata": {
        "colab": {
          "base_uri": "https://localhost:8080/"
        },
        "id": "dAItU-WibhEc",
        "outputId": "4a18456d-45e0-448f-eaa4-5aad9a3e2caa"
      },
      "execution_count": null,
      "outputs": [
        {
          "output_type": "stream",
          "name": "stdout",
          "text": [
            "(169, 10)\n",
            "                    open_time                       close_time symbol  \\\n",
            "164 2025-08-22 06:00:00+00:00 2025-08-22 06:59:59.999000+00:00    BTC   \n",
            "165 2025-08-22 07:00:00+00:00 2025-08-22 07:59:59.999000+00:00    BTC   \n",
            "166 2025-08-22 08:00:00+00:00 2025-08-22 08:59:59.999000+00:00    BTC   \n",
            "167 2025-08-22 09:00:00+00:00 2025-08-22 09:59:59.999000+00:00    BTC   \n",
            "168 2025-08-22 10:00:00+00:00 2025-08-22 10:59:59.999000+00:00    BTC   \n",
            "\n",
            "    interval      open     close      high       low     volume  trades  \n",
            "164       1h  113223.0  112968.0  113374.0  112821.0  650.06351    6371  \n",
            "165       1h  112968.0  113064.0  113214.0  112903.0  544.04143    6901  \n",
            "166       1h  113065.0  112971.0  113284.0  112924.0  385.39413    6475  \n",
            "167       1h  112972.0  113026.0  113102.0  112782.0  276.78663    5941  \n",
            "168       1h  113026.0  112519.0  113042.0  112502.0  334.49788    7269  \n"
          ]
        }
      ]
    },
    {
      "cell_type": "code",
      "source": [
        "import requests\n",
        "import pandas as pd\n",
        "import time\n",
        "\n",
        "INFO_URL = \"https://api.hyperliquid.xyz/info\"   # replace with correct endpoint\n",
        "NEWS_URL = \"https://newsapi.org/v2/everything\"\n",
        "from google.colab import userdata\n",
        "NEWS_API_KEY = userdata.get('NEWS_API') #replace this with your api access key"
      ],
      "metadata": {
        "id": "RgJcLTUjt024"
      },
      "execution_count": null,
      "outputs": []
    },
    {
      "cell_type": "code",
      "source": [
        "\n",
        "def fetch_hl_candles(coin=\"BTC\", interval=\"15m\", days=7):\n",
        "    now_ms = int(time.time() * 1000)\n",
        "    start_ms = now_ms - days * 24 * 60 * 60 * 1000\n",
        "    payload = {\n",
        "        \"type\": \"candleSnapshot\",\n",
        "        \"req\": {\"coin\": coin, \"interval\": interval, \"startTime\": start_ms, \"endTime\": now_ms},\n",
        "    }\n",
        "    r = requests.post(INFO_URL, json=payload, timeout=15)\n",
        "    r.raise_for_status()\n",
        "    data = r.json()  # list of candles\n",
        "    df = pd.DataFrame(data)\n",
        "\n",
        "    # rename and clean\n",
        "    rename = {\"t\":\"open_time\",\"T\":\"close_time\",\"o\":\"open\",\"h\":\"high\",\"l\":\"low\",\"c\":\"close\",\n",
        "              \"v\":\"volume\",\"n\":\"trades\",\"i\":\"interval\",\"s\":\"symbol\"}\n",
        "    df = df.rename(columns=rename)\n",
        "    num_cols = [\"open\",\"high\",\"low\",\"close\",\"volume\"]\n",
        "    for c in num_cols:\n",
        "        df[c] = pd.to_numeric(df[c], errors=\"coerce\")\n",
        "    df[\"open_time\"]  = pd.to_datetime(df[\"open_time\"],  unit=\"ms\", utc=True)\n",
        "    df[\"close_time\"] = pd.to_datetime(df[\"close_time\"], unit=\"ms\", utc=True)\n",
        "    return df.sort_values(\"open_time\")\n",
        "\n",
        "\n",
        "def fetch_btc_news(days=7, page_size=10):\n",
        "    now = pd.Timestamp.utcnow()\n",
        "    from_date = (now - pd.Timedelta(days=days)).strftime(\"%Y-%m-%d\")\n",
        "\n",
        "    params = {\n",
        "        \"q\": \"bitcoin OR BTC\",\n",
        "        \"from\": from_date,\n",
        "        \"sortBy\": \"publishedAt\",\n",
        "        \"language\": \"en\",\n",
        "        \"apiKey\": NEWS_API_KEY,\n",
        "        \"pageSize\": page_size\n",
        "    }\n",
        "    r = requests.get(NEWS_URL, params=params, timeout=15)\n",
        "    r.raise_for_status()\n",
        "    articles = r.json().get(\"articles\", [])\n",
        "    df = pd.DataFrame(articles)\n",
        "    if not df.empty:\n",
        "        df[\"publishedAt\"] = pd.to_datetime(df[\"publishedAt\"], utc=True)\n",
        "    return df\n",
        "\n",
        "\n",
        "def sync_price_with_news():\n",
        "    # 1. Fetch candles\n",
        "    candles = fetch_hl_candles()\n",
        "    # 2. Fetch news\n",
        "    news = fetch_btc_news()\n",
        "\n",
        "    if news.empty:\n",
        "        return candles, news\n",
        "\n",
        "    # 3. Merge by time window (map each news item to nearest candle)\n",
        "    merged = pd.merge_asof(\n",
        "        news.sort_values(\"publishedAt\"),\n",
        "        candles.sort_values(\"open_time\"),\n",
        "        left_on=\"publishedAt\",\n",
        "        right_on=\"open_time\",\n",
        "        direction=\"backward\"\n",
        "    )\n",
        "    return merged\n",
        "\n",
        "\n",
        "if __name__ == \"__main__\":\n",
        "    merged_df = sync_price_with_news()\n",
        "    print(merged_df[[\"publishedAt\",\"title\",\"open\",\"close\",\"high\",\"low\",\"volume\"]].head())\n"
      ],
      "metadata": {
        "colab": {
          "base_uri": "https://localhost:8080/"
        },
        "id": "-LUdzf9otxOy",
        "outputId": "72d638a9-a33d-42fe-9ce0-c991eb5dbb10"
      },
      "execution_count": null,
      "outputs": [
        {
          "output_type": "stream",
          "name": "stdout",
          "text": [
            "                publishedAt  \\\n",
            "0 2025-08-21 11:55:45+00:00   \n",
            "1 2025-08-21 11:55:53+00:00   \n",
            "2 2025-08-21 12:00:00+00:00   \n",
            "3 2025-08-21 12:00:00+00:00   \n",
            "4 2025-08-21 12:00:00+00:00   \n",
            "\n",
            "                                               title      open     close  \\\n",
            "0  Bitcoin Falters in Choppy Market, Ether Stays ...  113326.0  113113.0   \n",
            "1  Hong Kong construction firm’s stock jumps on $...  113326.0  113113.0   \n",
            "2  Bitcoin Bombshell: Eric Trump Hints At Secret ...  113113.0  113118.0   \n",
            "3  Markets Today: Bitcoin Bears Start to Emerge, ...  113113.0  113118.0   \n",
            "4  LendFriend Expands Crypto Mortgage Programs to...  113113.0  113118.0   \n",
            "\n",
            "       high       low      volume  \n",
            "0  113326.0  112956.0  1042.16112  \n",
            "1  113326.0  112956.0  1042.16112  \n",
            "2  113173.0  113017.0   100.78287  \n",
            "3  113173.0  113017.0   100.78287  \n",
            "4  113173.0  113017.0   100.78287  \n"
          ]
        }
      ]
    }
  ]
}